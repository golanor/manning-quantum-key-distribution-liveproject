{
 "cells": [
  {
   "cell_type": "code",
   "execution_count": 1,
   "id": "c2cd8e6c-5146-465c-a2de-acec027fae46",
   "metadata": {},
   "outputs": [],
   "source": [
    "from braket.circuits import Circuit, Gate, Observable\n",
    "from braket.devices import LocalSimulator\n",
    "from braket.circuits import circuit\n",
    "import braket as bk"
   ]
  },
  {
   "cell_type": "code",
   "execution_count": 3,
   "id": "b62ad41b-d67b-41e9-b456-36377ce6e4ee",
   "metadata": {},
   "outputs": [],
   "source": [
    "def alice_circuit():\n",
    "    device = LocalSimulator()\n",
    "    circ = Circuit()\n",
    "    circ.h(0)\n",
    "    circ.cnot(0, 1)\n",
    "    return circ"
   ]
  },
  {
   "cell_type": "code",
   "execution_count": 7,
   "id": "18f9febe-67a0-4749-957f-c271c0d92f90",
   "metadata": {},
   "outputs": [],
   "source": [
    "circ = alice_circuit()"
   ]
  },
  {
   "cell_type": "code",
   "execution_count": 9,
   "id": "e0d881c5-3043-4a45-ae8d-32732babc30d",
   "metadata": {},
   "outputs": [
    {
     "name": "stdout",
     "output_type": "stream",
     "text": [
      "T  : |0|1|\n",
      "          \n",
      "q0 : -H-C-\n",
      "        | \n",
      "q1 : ---X-\n",
      "\n",
      "T  : |0|1|\n"
     ]
    }
   ],
   "source": [
    "print(circ.diagram())"
   ]
  },
  {
   "cell_type": "code",
   "execution_count": null,
   "id": "e34d4c00-6ef4-4ce8-ba3a-c6e58980ef42",
   "metadata": {},
   "outputs": [],
   "source": []
  }
 ],
 "metadata": {
  "kernelspec": {
   "display_name": "braket",
   "language": "python",
   "name": "braket"
  },
  "language_info": {
   "codemirror_mode": {
    "name": "ipython",
    "version": 3
   },
   "file_extension": ".py",
   "mimetype": "text/x-python",
   "name": "python",
   "nbconvert_exporter": "python",
   "pygments_lexer": "ipython3",
   "version": "3.9.6"
  }
 },
 "nbformat": 4,
 "nbformat_minor": 5
}
