{
 "cells": [
  {
   "cell_type": "code",
   "execution_count": 1,
   "id": "cf89382b-73fb-4cf5-b2c7-50dc347ec07b",
   "metadata": {},
   "outputs": [],
   "source": [
    "import random\n",
    "\n",
    "from braket.circuits import Circuit, gates, Instruction\n",
    "from braket.devices import LocalSimulator\n",
    "import braket as bk"
   ]
  },
  {
   "cell_type": "code",
   "execution_count": 3,
   "id": "158d42c2-d4ac-45a0-9d14-1c2e29786862",
   "metadata": {},
   "outputs": [],
   "source": [
    "ENCODINGS = {\n",
    "    \"00\": gates.I(),\n",
    "    \"01\": gates.X(),\n",
    "    \"10\": gates.Z(),\n",
    "    \"11\": (gates.X(), gates.Z())\n",
    "}"
   ]
  },
  {
   "cell_type": "code",
   "execution_count": 11,
   "id": "987a1949-e309-4d9c-ae44-a6c05593b07c",
   "metadata": {},
   "outputs": [
    {
     "data": {
      "text/plain": [
       "['00', '01', '10', '11', '01']"
      ]
     },
     "execution_count": 11,
     "metadata": {},
     "output_type": "execute_result"
    }
   ],
   "source": []
  },
  {
   "cell_type": "code",
   "execution_count": 30,
   "id": "8ae03d30-3583-4ded-8f2f-48eb7623095f",
   "metadata": {},
   "outputs": [],
   "source": [
    "def alice_circuit():\n",
    "    circ = Circuit()\n",
    "    circ.h(0)\n",
    "    circ.cnot(0, 1)\n",
    "    return circ\n",
    "\n",
    "\n",
    "def encoding(bits: str, circ):\n",
    "    if isinstance(ENCODINGS[bits], tuple):\n",
    "        for gate in ENCODINGS[bits]:\n",
    "            circ.add_instruction(Instruction(gate, 0))\n",
    "    else:\n",
    "        circ.add_instruction(Instruction(ENCODINGS[bits], 0))\n",
    "    return circ\n",
    "\n",
    "\n",
    "def bobs_circuit(circ):\n",
    "    circ.cnot(0, 1)\n",
    "    circ.h(0)\n",
    "    return circ\n",
    "\n",
    "\n",
    "def complete_loop(length: int):\n",
    "    device = LocalSimulator()\n",
    "    for message in random.choices(list(ENCODINGS.keys()), k=length):\n",
    "        print(f\"Alice's message is {message}\")\n",
    "        circ = alice_circuit()\n",
    "        circ = encoding(message, circ)\n",
    "        circ = bobs_circuit(circ)\n",
    "        res = device.run(circ, shots=1).result()\n",
    "        print(f\"Bob measured {res.measurement_counts}\")"
   ]
  },
  {
   "cell_type": "code",
   "execution_count": 31,
   "id": "2dcb43dc-7ece-4117-b8e2-b12b65e8ec02",
   "metadata": {},
   "outputs": [
    {
     "name": "stdout",
     "output_type": "stream",
     "text": [
      "Alice's message is 10\n",
      "Bob measured Counter({'10': 1})\n",
      "Alice's message is 11\n",
      "Bob measured Counter({'11': 1})\n",
      "Alice's message is 01\n",
      "Bob measured Counter({'01': 1})\n",
      "Alice's message is 11\n",
      "Bob measured Counter({'11': 1})\n",
      "Alice's message is 00\n",
      "Bob measured Counter({'00': 1})\n",
      "Alice's message is 10\n",
      "Bob measured Counter({'10': 1})\n",
      "Alice's message is 00\n",
      "Bob measured Counter({'00': 1})\n",
      "Alice's message is 11\n",
      "Bob measured Counter({'11': 1})\n",
      "Alice's message is 01\n",
      "Bob measured Counter({'01': 1})\n",
      "Alice's message is 00\n",
      "Bob measured Counter({'00': 1})\n"
     ]
    }
   ],
   "source": [
    "complete_loop(10)"
   ]
  }
 ],
 "metadata": {
  "kernelspec": {
   "display_name": "braket",
   "language": "python",
   "name": "braket"
  },
  "language_info": {
   "codemirror_mode": {
    "name": "ipython",
    "version": 3
   },
   "file_extension": ".py",
   "mimetype": "text/x-python",
   "name": "python",
   "nbconvert_exporter": "python",
   "pygments_lexer": "ipython3",
   "version": "3.9.6"
  }
 },
 "nbformat": 4,
 "nbformat_minor": 5
}
