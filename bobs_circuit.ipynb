{
 "cells": [
  {
   "cell_type": "code",
   "execution_count": 2,
   "id": "cf89382b-73fb-4cf5-b2c7-50dc347ec07b",
   "metadata": {},
   "outputs": [],
   "source": [
    "from braket.circuits import Circuit, gates, Instruction\n",
    "from braket.devices import LocalSimulator\n",
    "import braket as bk"
   ]
  },
  {
   "cell_type": "code",
   "execution_count": 3,
   "id": "158d42c2-d4ac-45a0-9d14-1c2e29786862",
   "metadata": {},
   "outputs": [],
   "source": [
    "ENCODINGS = {\n",
    "    \"00\": gates.I(),\n",
    "    \"01\": gates.X(),\n",
    "    \"10\": gates.Z(),\n",
    "    \"11\": (gates.X(), gates.Z())\n",
    "}"
   ]
  },
  {
   "cell_type": "code",
   "execution_count": 4,
   "id": "8ae03d30-3583-4ded-8f2f-48eb7623095f",
   "metadata": {},
   "outputs": [],
   "source": [
    "def alice_circuit():\n",
    "    device = LocalSimulator()\n",
    "    circ = Circuit()\n",
    "    circ.h(0)\n",
    "    circ.cnot(0, 1)\n",
    "    return circ\n",
    "\n",
    "\n",
    "def encoding(bits: str, circ):\n",
    "    if isinstance(ENCODINGS[bits], tuple):\n",
    "        for gate in ENCODINGS[bits]:\n",
    "            circ.add_instruction(Instruction(gate, 0))\n",
    "    else:\n",
    "        circ.add_instruction(Instruction(ENCODINGS[bits], 0))\n",
    "    return circ\n",
    "\n",
    "\n",
    "def bobs_circuit():\n",
    "    device = LocalSimulator()\n",
    "    circ = Circuit()\n",
    "    circ.cnot(0, 1)\n",
    "    circ.h(0)\n",
    "    return circ"
   ]
  },
  {
   "cell_type": "code",
   "execution_count": 5,
   "id": "2dcb43dc-7ece-4117-b8e2-b12b65e8ec02",
   "metadata": {},
   "outputs": [],
   "source": [
    "circ = bobs_circuit()"
   ]
  },
  {
   "cell_type": "code",
   "execution_count": 6,
   "id": "2f659b11-8839-40d6-8bc9-daffa441b103",
   "metadata": {},
   "outputs": [
    {
     "name": "stdout",
     "output_type": "stream",
     "text": [
      "T  : |0|1|\n",
      "          \n",
      "q0 : -C-H-\n",
      "      |   \n",
      "q1 : -X---\n",
      "\n",
      "T  : |0|1|\n"
     ]
    }
   ],
   "source": [
    "print(circ)"
   ]
  },
  {
   "cell_type": "code",
   "execution_count": 6,
   "id": "3ecd3969-895c-4f88-b0f1-de296365e0e5",
   "metadata": {},
   "outputs": [
    {
     "name": "stdout",
     "output_type": "stream",
     "text": [
      "T  : |0|1|2|\n",
      "            \n",
      "q0 : -H-C-X-\n",
      "        |   \n",
      "q1 : ---X---\n",
      "\n",
      "T  : |0|1|2|\n"
     ]
    }
   ],
   "source": [
    "print(encoding(\"01\", alice_circuit()))"
   ]
  },
  {
   "cell_type": "code",
   "execution_count": null,
   "id": "ee545c0f-8f12-4e34-bb7b-279304b47609",
   "metadata": {},
   "outputs": [],
   "source": []
  }
 ],
 "metadata": {
  "kernelspec": {
   "display_name": "braket",
   "language": "python",
   "name": "braket"
  },
  "language_info": {
   "codemirror_mode": {
    "name": "ipython",
    "version": 3
   },
   "file_extension": ".py",
   "mimetype": "text/x-python",
   "name": "python",
   "nbconvert_exporter": "python",
   "pygments_lexer": "ipython3",
   "version": "3.9.6"
  }
 },
 "nbformat": 4,
 "nbformat_minor": 5
}
